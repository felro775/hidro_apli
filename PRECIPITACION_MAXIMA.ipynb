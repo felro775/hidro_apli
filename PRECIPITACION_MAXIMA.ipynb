{
 "cells": [
  {
   "cell_type": "code",
   "execution_count": 1,
   "id": "db713564-566f-4273-9987-ea0864bf1d4d",
   "metadata": {},
   "outputs": [],
   "source": [
    "import pandas as pd\n",
    "import numpy as np\n",
    "columnas_lectura = [0,1,2,7]"
   ]
  },
  {
   "cell_type": "code",
   "execution_count": 2,
   "id": "8e642eb5-5511-4e35-8975-4d00a4fc8e51",
   "metadata": {},
   "outputs": [],
   "source": [
    "archivo = \"Puente Negro.xlsx\""
   ]
  },
  {
   "cell_type": "code",
   "execution_count": 3,
   "id": "dd8038bc-18fd-4e60-bd55-cee77da2bcbd",
   "metadata": {},
   "outputs": [],
   "source": [
    "df = pd.read_excel(archivo, sheet_name = \"datos\", header = 0, usecols = columnas_lectura)\n",
    "df1 = df[\"gestion\"].drop_duplicates()\n",
    "serie = df1.tolist()\n",
    "filasm = df1.size\n",
    "columnasm = 12\n",
    "contam = 0\n",
    "matriz2 =[]\n",
    "\n",
    "for i in range(filasm):\n",
    "    matriz2.append([0]*columnasm)\n",
    "\n",
    "for i in range(filasm):\n",
    "    contam = contam + 1    \n",
    "    matriz2[i][0]=serie[i]\n",
    "\n",
    "df2 = df.groupby(['gestion','mes'], as_index=False)['Precipitación'].max()\n",
    "df3 = df.groupby(['gestion'], as_index=False)['Precipitación'].max()\n",
    "serie2 = df3['Precipitación'].values.tolist()\n",
    "\n",
    "for i in range(filasm):\n",
    "    df4=0\n",
    "    df5=0\n",
    "    serie3 = 0\n",
    "    k=i+1\n",
    "    for j in range(columnasm):\n",
    "        serie3=0\n",
    "        serie4=0\n",
    "        vas1=serie[i]\n",
    "        vas2=j+1        \n",
    "        df4 = df2.query('gestion==@vas1 and mes==@vas2')\n",
    "        serie3=df4[\"Precipitación\"].values.tolist()\n",
    "        serie4=str(serie3)[1:-1]\n",
    "        matriz2[i][j]=serie4\n",
    "\n",
    "df6=pd.DataFrame(matriz2)\n",
    "df6.columns=['E','F','M','A','M','J','J','A','S','O','N','D']\n",
    "df6.insert(0, \"gestion\", serie, True)\n",
    "df6.insert(13, \"Max\", serie2, True)\n",
    "archivo_salida = \"PREC_MAXIMA_\" + archivo\n",
    "df6.to_excel(archivo_salida,index=False)"
   ]
  },
  {
   "cell_type": "code",
   "execution_count": 73,
   "id": "43a92052-1862-4bda-b340-40d77ef5cf20",
   "metadata": {},
   "outputs": [],
   "source": []
  },
  {
   "cell_type": "code",
   "execution_count": 93,
   "id": "34d0954f-a931-4a8c-aa23-91afd2ef686d",
   "metadata": {},
   "outputs": [],
   "source": []
  },
  {
   "cell_type": "code",
   "execution_count": 97,
   "id": "192b0a89-67b6-4e93-9066-5573752070f7",
   "metadata": {},
   "outputs": [],
   "source": []
  },
  {
   "cell_type": "code",
   "execution_count": 99,
   "id": "d3b080e1-83a0-4065-8979-ef0845ff692f",
   "metadata": {},
   "outputs": [],
   "source": []
  },
  {
   "cell_type": "code",
   "execution_count": null,
   "id": "d0e01747-b6f8-41bf-a666-bec2c50fe52e",
   "metadata": {},
   "outputs": [],
   "source": []
  }
 ],
 "metadata": {
  "kernelspec": {
   "display_name": "Python 3 (ipykernel)",
   "language": "python",
   "name": "python3"
  },
  "language_info": {
   "codemirror_mode": {
    "name": "ipython",
    "version": 3
   },
   "file_extension": ".py",
   "mimetype": "text/x-python",
   "name": "python",
   "nbconvert_exporter": "python",
   "pygments_lexer": "ipython3",
   "version": "3.11.7"
  }
 },
 "nbformat": 4,
 "nbformat_minor": 5
}
