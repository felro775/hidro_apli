{
 "cells": [
  {
   "cell_type": "code",
   "execution_count": 6,
   "id": "db713564-566f-4273-9987-ea0864bf1d4d",
   "metadata": {},
   "outputs": [],
   "source": [
    "import pandas as pd\n",
    "import numpy as np\n",
    "columnas_lectura = [0,1,2,7,8]"
   ]
  },
  {
   "cell_type": "code",
   "execution_count": 7,
   "id": "8e642eb5-5511-4e35-8975-4d00a4fc8e51",
   "metadata": {},
   "outputs": [],
   "source": [
    "archivo = \"Alto Achachicala TEMPERATURA.xlsx\""
   ]
  },
  {
   "cell_type": "code",
   "execution_count": 8,
   "id": "dd8038bc-18fd-4e60-bd55-cee77da2bcbd",
   "metadata": {},
   "outputs": [],
   "source": [
    "df = pd.read_excel(archivo, sheet_name = \"datos\", header = 0, usecols = columnas_lectura)\n",
    "numero_datos=len(df.index)\n",
    "df1 = df[\"gestion\"].drop_duplicates()\n",
    "serie1 = df1.tolist()\n",
    "filasm = df1.size\n",
    "columnasm = 12\n",
    "contam = 0\n",
    "matriz1=[]\n",
    "\n",
    "for i in range(filasm):\n",
    "    matriz1.append([0]*columnasm)\n",
    "\n",
    "for i in range(filasm):\n",
    "    contam = contam + 1    \n",
    "    matriz1[i][0]=serie1[i]\n",
    "\n",
    "serie2 = df['\"Temperatura Máxima\"'].values.tolist()\n",
    "serie3 = df['\"Temperatura Mínima\"'].values.tolist()\n",
    "serie4 = []\n",
    "\n",
    "for i in range(numero_datos):\n",
    "    serie4.append((serie2[i]+serie3[i])/2)\n",
    "\n",
    "df1 = df.groupby(['gestion','mes','dia'], as_index=False)['\"Temperatura Máxima\"'].max()\n",
    "df1.insert(4, \"Temperatura Mínima\", serie3, True)\n",
    "df1.insert(5, \"Temp_Media\", serie4, True)\n",
    "df2 = df1.groupby(['gestion','mes'], as_index=False)['Temp_Media'].sum()\n",
    "serie5 = df2['Temp_Media'].values.tolist()\n",
    "df3= df1.groupby(['gestion','mes'], as_index=False)['Temp_Media'].count()\n",
    "serie6 = df3['Temp_Media'].values.tolist()\n",
    "numero_meses=len(df3.index)\n",
    "serie7 = []\n",
    "\n",
    "for i in range(numero_meses):\n",
    "    serie7.append(serie5[i]/serie6[i])\n",
    "\n",
    "df3.insert(3, \"Prom_Mensual\", serie7, True)\n",
    "\n",
    "for i in range(filasm):\n",
    "    df4=0\n",
    "    k=i+1\n",
    "    serie13=0\n",
    "    serie14=0\n",
    "    for j in range(columnasm):\n",
    "        serie13=0\n",
    "        serie14=0\n",
    "        var1=serie1[i]\n",
    "        var2=j+1        \n",
    "        df4 = df3.query('gestion==@var1 and mes==@var2')        \n",
    "        serie13=df4[\"Prom_Mensual\"].values.tolist()\n",
    "        serie14=str(serie13)[1:-1]\n",
    "        matriz1[i][j]=serie14\n",
    "\n",
    "df5=pd.DataFrame(matriz1)\n",
    "df5.columns=['E','F','M','A','M','J','J','A','S','O','N','D']\n",
    "df5.insert(0, \"Gestion\", serie1, True)\n",
    "df6= df3.groupby(['gestion'], as_index=False)['Prom_Mensual'].count()\n",
    "serie8 = df6['Prom_Mensual'].values.tolist()\n",
    "df7= df3.groupby(['gestion'], as_index=False)['Prom_Mensual'].sum()\n",
    "serie9 = df7['Prom_Mensual'].values.tolist()\n",
    "serie21=[0]\n",
    "\n",
    "for i in range(filasm):\n",
    "    serie21.append(serie9[i]/serie8[i])\n",
    "\n",
    "serie21.remove(0)\n",
    "df5.insert(13, \"Prom\", serie21, True)\n",
    "archivo_salida = \"CONVERTIDO_TEMP\" + archivo\n",
    "df5.to_excel(archivo_salida,index=False)"
   ]
  },
  {
   "cell_type": "code",
   "execution_count": 67,
   "id": "5e2658c8-b02c-4a7b-a30f-a584427d9a46",
   "metadata": {},
   "outputs": [],
   "source": []
  },
  {
   "cell_type": "code",
   "execution_count": null,
   "id": "8d8f32f6-c9c6-43e6-a291-5d8866cb02a4",
   "metadata": {},
   "outputs": [],
   "source": []
  },
  {
   "cell_type": "code",
   "execution_count": null,
   "id": "340d4219-fcaa-43cb-8798-11cc53774258",
   "metadata": {},
   "outputs": [],
   "source": []
  },
  {
   "cell_type": "code",
   "execution_count": null,
   "id": "d0e01747-b6f8-41bf-a666-bec2c50fe52e",
   "metadata": {},
   "outputs": [],
   "source": []
  },
  {
   "cell_type": "code",
   "execution_count": null,
   "id": "a47e67c8-c019-47a1-b5c2-a94d7cd16a27",
   "metadata": {},
   "outputs": [],
   "source": []
  }
 ],
 "metadata": {
  "kernelspec": {
   "display_name": "Python 3 (ipykernel)",
   "language": "python",
   "name": "python3"
  },
  "language_info": {
   "codemirror_mode": {
    "name": "ipython",
    "version": 3
   },
   "file_extension": ".py",
   "mimetype": "text/x-python",
   "name": "python",
   "nbconvert_exporter": "python",
   "pygments_lexer": "ipython3",
   "version": "3.11.7"
  }
 },
 "nbformat": 4,
 "nbformat_minor": 5
}
