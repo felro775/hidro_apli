{
 "cells": [
  {
   "cell_type": "code",
   "execution_count": 4,
   "id": "db713564-566f-4273-9987-ea0864bf1d4d",
   "metadata": {},
   "outputs": [],
   "source": [
    "import pandas as pd\n",
    "import numpy as np\n",
    "columnas_lectura = [0,1,2,7]"
   ]
  },
  {
   "cell_type": "code",
   "execution_count": 5,
   "id": "8e642eb5-5511-4e35-8975-4d00a4fc8e51",
   "metadata": {},
   "outputs": [],
   "source": [
    "archivo = \"Puente Negro.xlsx\""
   ]
  },
  {
   "cell_type": "code",
   "execution_count": 6,
   "id": "dd8038bc-18fd-4e60-bd55-cee77da2bcbd",
   "metadata": {},
   "outputs": [],
   "source": [
    "df = pd.read_excel(archivo, sheet_name = \"datos\", header = 0, usecols = columnas_lectura)\n",
    "df1 = df[\"gestion\"].drop_duplicates()\n",
    "serie1 = df1.tolist()\n",
    "filasm = df1.size\n",
    "columnasm = 12\n",
    "contam = 0\n",
    "matriz1 =[]\n",
    "\n",
    "for i in range(filasm):\n",
    "    matriz1.append([0]*columnasm)\n",
    "\n",
    "for i in range(filasm):\n",
    "    contam = contam + 1    \n",
    "    matriz1[i][0]=serie1[i]\n",
    "\n",
    "df1 = df.groupby(['gestion','mes'], as_index=False)['Precipitación'].sum()\n",
    "df2 = df1.groupby(['gestion'], as_index=False)['Precipitación'].sum()\n",
    "df2.columns=['gestion','Suma']\n",
    "serie2 = df2['Suma'].values.tolist()\n",
    "\n",
    "for i in range(filasm):\n",
    "    df3=0\n",
    "    k=i+1\n",
    "    serie3=0\n",
    "    serie4=0\n",
    "    for j in range(columnasm):\n",
    "        serie3=0\n",
    "        serie4=0\n",
    "        vas1=serie1[i]\n",
    "        vas2=j+1        \n",
    "        df3 = df1.query('gestion==@vas1 and mes==@vas2')        \n",
    "        serie3=df3[\"Precipitación\"].values.tolist()\n",
    "        serie4=str(serie3)[1:-1]\n",
    "        matriz1[i][j]=serie4\n",
    "\n",
    "df5=pd.DataFrame(matriz1)\n",
    "df5.columns=['E','F','M','A','M','J','J','A','S','O','N','D']\n",
    "df5.insert(0, \"Gestion\", serie1, True)\n",
    "df5.insert(13, \"Sum\", serie2, True)\n",
    "archivo_salida = \"CONVERTIDO_\" + archivo\n",
    "df5.to_excel(archivo_salida,index=False)"
   ]
  },
  {
   "cell_type": "code",
   "execution_count": null,
   "id": "192b0a89-67b6-4e93-9066-5573752070f7",
   "metadata": {},
   "outputs": [],
   "source": []
  },
  {
   "cell_type": "code",
   "execution_count": 32,
   "id": "d3b080e1-83a0-4065-8979-ef0845ff692f",
   "metadata": {},
   "outputs": [],
   "source": []
  },
  {
   "cell_type": "code",
   "execution_count": 34,
   "id": "10db5a45-c491-4dcf-8b49-c5f38e7367e4",
   "metadata": {},
   "outputs": [],
   "source": []
  },
  {
   "cell_type": "code",
   "execution_count": 35,
   "id": "ce0a4a9a-cbd3-4ebe-8011-a228ac4d34db",
   "metadata": {},
   "outputs": [],
   "source": []
  },
  {
   "cell_type": "code",
   "execution_count": null,
   "id": "8d8f32f6-c9c6-43e6-a291-5d8866cb02a4",
   "metadata": {},
   "outputs": [],
   "source": []
  },
  {
   "cell_type": "code",
   "execution_count": null,
   "id": "340d4219-fcaa-43cb-8798-11cc53774258",
   "metadata": {},
   "outputs": [],
   "source": []
  },
  {
   "cell_type": "code",
   "execution_count": null,
   "id": "d0e01747-b6f8-41bf-a666-bec2c50fe52e",
   "metadata": {},
   "outputs": [],
   "source": []
  },
  {
   "cell_type": "code",
   "execution_count": null,
   "id": "a47e67c8-c019-47a1-b5c2-a94d7cd16a27",
   "metadata": {},
   "outputs": [],
   "source": []
  }
 ],
 "metadata": {
  "kernelspec": {
   "display_name": "Python 3 (ipykernel)",
   "language": "python",
   "name": "python3"
  },
  "language_info": {
   "codemirror_mode": {
    "name": "ipython",
    "version": 3
   },
   "file_extension": ".py",
   "mimetype": "text/x-python",
   "name": "python",
   "nbconvert_exporter": "python",
   "pygments_lexer": "ipython3",
   "version": "3.11.7"
  }
 },
 "nbformat": 4,
 "nbformat_minor": 5
}
